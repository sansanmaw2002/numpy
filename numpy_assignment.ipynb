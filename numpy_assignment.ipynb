{
  "nbformat": 4,
  "nbformat_minor": 0,
  "metadata": {
    "colab": {
      "provenance": []
    },
    "kernelspec": {
      "name": "python3",
      "display_name": "Python 3"
    },
    "language_info": {
      "name": "python"
    }
  },
  "cells": [
    {
      "cell_type": "code",
      "execution_count": null,
      "metadata": {
        "id": "kbg6G25I0PZU",
        "outputId": "a42c368e-946d-4cd2-9f97-813e46e30050",
        "colab": {
          "base_uri": "https://localhost:8080/",
          "height": 235
        }
      },
      "outputs": [
        {
          "output_type": "error",
          "ename": "NameError",
          "evalue": "ignored",
          "traceback": [
            "\u001b[0;31m---------------------------------------------------------------------------\u001b[0m",
            "\u001b[0;31mNameError\u001b[0m                                 Traceback (most recent call last)",
            "\u001b[0;32m<ipython-input-1-0d9a1ae71e5e>\u001b[0m in \u001b[0;36m<module>\u001b[0;34m\u001b[0m\n\u001b[1;32m      7\u001b[0m \u001b[0;31m# writing half of the data in one file\u001b[0m\u001b[0;34m\u001b[0m\u001b[0;34m\u001b[0m\u001b[0;34m\u001b[0m\u001b[0m\n\u001b[1;32m      8\u001b[0m \u001b[0;32mwith\u001b[0m \u001b[0mopen\u001b[0m\u001b[0;34m(\u001b[0m\u001b[0;34m\"first_half.txt\"\u001b[0m\u001b[0;34m,\u001b[0m \u001b[0;34m'w'\u001b[0m\u001b[0;34m)\u001b[0m \u001b[0;32mas\u001b[0m \u001b[0mfile1\u001b[0m\u001b[0;34m:\u001b[0m\u001b[0;34m\u001b[0m\u001b[0;34m\u001b[0m\u001b[0m\n\u001b[0;32m----> 9\u001b[0;31m         \u001b[0;32mfor\u001b[0m \u001b[0mline\u001b[0m \u001b[0;32min\u001b[0m \u001b[0mdata\u001b[0m\u001b[0;34m[\u001b[0m\u001b[0;34m:\u001b[0m\u001b[0mint\u001b[0m\u001b[0;34m(\u001b[0m\u001b[0mlen\u001b[0m\u001b[0;34m(\u001b[0m\u001b[0mdata\u001b[0m\u001b[0;34m)\u001b[0m\u001b[0;34m/\u001b[0m\u001b[0;36m2\u001b[0m\u001b[0;34m)\u001b[0m\u001b[0;34m]\u001b[0m\u001b[0;34m:\u001b[0m\u001b[0;34m\u001b[0m\u001b[0;34m\u001b[0m\u001b[0m\n\u001b[0m\u001b[1;32m     10\u001b[0m                 \u001b[0mfile1\u001b[0m\u001b[0;34m.\u001b[0m\u001b[0mwrite\u001b[0m\u001b[0;34m(\u001b[0m\u001b[0mline\u001b[0m\u001b[0;34m)\u001b[0m\u001b[0;34m\u001b[0m\u001b[0;34m\u001b[0m\u001b[0m\n\u001b[1;32m     11\u001b[0m \u001b[0;34m\u001b[0m\u001b[0m\n",
            "\u001b[0;31mNameError\u001b[0m: name 'data' is not defined"
          ]
        }
      ],
      "source": [
        "#incomplete_error\n",
        "with open('members.txt', 'r') as file1:\n",
        "    wordlist = file1.read()\n",
        "#Step 1: read all members from the given text file\n",
        "\n",
        "#Step 2: split them into active_members.txt and inactive_members.txt\n",
        "\n",
        "# writing half of the data in one file\n",
        "with open(\"first_half.txt\", 'w') as file1:\n",
        "\tfor line in data[:int(len(data)/2)]:\n",
        "\t\tfile1.write(line)\n",
        "\n",
        "# writing another half of the data in one file\n",
        "with open(\"second_half.txt\", 'w') as file2:\n",
        "\tfor line in data[int(len(data)/2):]:\n",
        "\t\tfile2.write(line)\n"
      ]
    },
    {
      "cell_type": "code",
      "source": [
        "with open('members.txt', mode = 'r') as file:\n",
        "  members = file.readlines()[1:]\n",
        "#Step 1: read all members from the given text file\n",
        "\n",
        "\n",
        "new_list = [words for segments in members for words in segments.split()]\n",
        "print(new_list)\n",
        "\n",
        "\n",
        "it = iter(new_list)\n",
        "tuple_list = [i for i in zip(*[iter(new_list)]*3)]\n",
        "print(tuple_list)\n",
        "\n",
        "active_member = [item for item in tuple_list if 'yes' in item]\n",
        "print(active_member)\n",
        "type(active_member)\n",
        "\n",
        "active_file = [' '.join(item) for item in active_member]\n",
        "print(active_file)\n",
        "\n",
        "active_file = [\"Active Members List\"] + active_file\n",
        "\n",
        "listToStr = '\\n'.join([str(elem) for elem in active_file])\n",
        "print(listToStr)\n",
        "\n",
        "with open('active_members_file_txt', 'w') as f:\n",
        "  f.write(listToStr)\n",
        "\n",
        "non_active_member= [item for item in tuple_list if 'no' in item]\n",
        "print(non_active_member)\n",
        "type(non_active_member)\n",
        "\n",
        "non_active_file = [' '.join(item) for item in non_active_member]\n",
        "print(non_active_file)\n",
        "\n",
        "non_active_file = [\"Non-Active Members List\"] + non_active_file\n",
        "list_to_str = '\\n'.join([str(elem) for elem in non_active_file])\n",
        "print(list_to_str)\n",
        "\n",
        "with open('non_active_members_file_txt', 'w') as f:\n",
        "  f.write(list_to_str)"
      ],
      "metadata": {
        "colab": {
          "base_uri": "https://localhost:8080/"
        },
        "id": "xPnXLHQSVhg9",
        "outputId": "d337173f-c38b-40a5-a044-e05b2eb7970d"
      },
      "execution_count": null,
      "outputs": [
        {
          "output_type": "stream",
          "name": "stdout",
          "text": [
            "['20364', '2016-6-11', 'no', '51945', '2015-4-10', 'yes', '88053', '2016-2-19', 'yes', '49743', '2020-4-12', 'yes', '49109', '2016-4-12', 'no', '36642', '2018-11-16', 'no', '21690', '2016-11-19', 'yes', '43779', '2020-6-9', 'yes', '42687', '2017-9-12', 'yes', '32923', '2020-4-25', 'no', '76363', '2016-1-23', 'no', '54779', '2016-6-24', 'no', '49827', '2019-8-1', 'no', '21077', '2016-3-25', 'no', '70880', '2020-3-7', 'yes', '46937', '2016-6-24', 'yes', '15432', '2015-1-4', 'no', '63456', '2020-2-11', 'no', '37395', '2019-4-6', 'yes', '43411', '2018-2-1', 'no']\n",
            "[('20364', '2016-6-11', 'no'), ('51945', '2015-4-10', 'yes'), ('88053', '2016-2-19', 'yes'), ('49743', '2020-4-12', 'yes'), ('49109', '2016-4-12', 'no'), ('36642', '2018-11-16', 'no'), ('21690', '2016-11-19', 'yes'), ('43779', '2020-6-9', 'yes'), ('42687', '2017-9-12', 'yes'), ('32923', '2020-4-25', 'no'), ('76363', '2016-1-23', 'no'), ('54779', '2016-6-24', 'no'), ('49827', '2019-8-1', 'no'), ('21077', '2016-3-25', 'no'), ('70880', '2020-3-7', 'yes'), ('46937', '2016-6-24', 'yes'), ('15432', '2015-1-4', 'no'), ('63456', '2020-2-11', 'no'), ('37395', '2019-4-6', 'yes'), ('43411', '2018-2-1', 'no')]\n",
            "[('51945', '2015-4-10', 'yes'), ('88053', '2016-2-19', 'yes'), ('49743', '2020-4-12', 'yes'), ('21690', '2016-11-19', 'yes'), ('43779', '2020-6-9', 'yes'), ('42687', '2017-9-12', 'yes'), ('70880', '2020-3-7', 'yes'), ('46937', '2016-6-24', 'yes'), ('37395', '2019-4-6', 'yes')]\n",
            "['51945 2015-4-10 yes', '88053 2016-2-19 yes', '49743 2020-4-12 yes', '21690 2016-11-19 yes', '43779 2020-6-9 yes', '42687 2017-9-12 yes', '70880 2020-3-7 yes', '46937 2016-6-24 yes', '37395 2019-4-6 yes']\n",
            "Active Members List\n",
            "51945 2015-4-10 yes\n",
            "88053 2016-2-19 yes\n",
            "49743 2020-4-12 yes\n",
            "21690 2016-11-19 yes\n",
            "43779 2020-6-9 yes\n",
            "42687 2017-9-12 yes\n",
            "70880 2020-3-7 yes\n",
            "46937 2016-6-24 yes\n",
            "37395 2019-4-6 yes\n",
            "[('20364', '2016-6-11', 'no'), ('49109', '2016-4-12', 'no'), ('36642', '2018-11-16', 'no'), ('32923', '2020-4-25', 'no'), ('76363', '2016-1-23', 'no'), ('54779', '2016-6-24', 'no'), ('49827', '2019-8-1', 'no'), ('21077', '2016-3-25', 'no'), ('15432', '2015-1-4', 'no'), ('63456', '2020-2-11', 'no'), ('43411', '2018-2-1', 'no')]\n",
            "['20364 2016-6-11 no', '49109 2016-4-12 no', '36642 2018-11-16 no', '32923 2020-4-25 no', '76363 2016-1-23 no', '54779 2016-6-24 no', '49827 2019-8-1 no', '21077 2016-3-25 no', '15432 2015-1-4 no', '63456 2020-2-11 no', '43411 2018-2-1 no']\n",
            "Non-Active Members List\n",
            "20364 2016-6-11 no\n",
            "49109 2016-4-12 no\n",
            "36642 2018-11-16 no\n",
            "32923 2020-4-25 no\n",
            "76363 2016-1-23 no\n",
            "54779 2016-6-24 no\n",
            "49827 2019-8-1 no\n",
            "21077 2016-3-25 no\n",
            "15432 2015-1-4 no\n",
            "63456 2020-2-11 no\n",
            "43411 2018-2-1 no\n"
          ]
        }
      ]
    }
  ]
}